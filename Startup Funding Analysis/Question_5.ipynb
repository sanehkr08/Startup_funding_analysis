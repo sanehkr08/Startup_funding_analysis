{
 "cells": [
  {
   "cell_type": "markdown",
   "id": "511d855d",
   "metadata": {},
   "source": [
    "Question 5.  Due to your immense help, your friend startup successfully got seed funding and it is on the operational mode. Now your friend wants to expand his startup and he is looking for new investors for his startup Now you again come as a saviour to help your friend and want to create a list of probable new new Investors. Before moving forward you remember your investor friend advice that finding the investors by analysing the investment type. Since your friend startup is not in early phase it is in growth stage so the best suited investment type is Private Equity Find the top 5 investors who have invested in a different number of startups and their investment type is Private Equity Correct spelling of investment types are \"Private Equity \"Seed Funding\" \"Debt Funding\" and \"Crowd Funding Keep an eye for any spelling mistake You can find this by printing unique values from this column. There are many errors in startup names. Ignore correcting all just handle the important ones-Ola, Flipkart Oyo and Paytm"
   ]
  },
  {
   "cell_type": "markdown",
   "id": "709a19f1",
   "metadata": {},
   "source": [
    "# Importing required libraries"
   ]
  },
  {
   "cell_type": "code",
   "execution_count": 1,
   "id": "db5bc47a",
   "metadata": {},
   "outputs": [],
   "source": [
    "import numpy as np\n",
    "import pandas as pd\n",
    "import matplotlib.pyplot as plt\n",
    "from collections import Counter"
   ]
  },
  {
   "cell_type": "markdown",
   "id": "b8d0c058",
   "metadata": {},
   "source": [
    "# Loading and cleaning data"
   ]
  },
  {
   "cell_type": "code",
   "execution_count": 2,
   "id": "c39fb57b",
   "metadata": {},
   "outputs": [],
   "source": [
    "df = pd.read_csv(\"startup_funding.csv\" , encoding = \"UTF-8\")"
   ]
  },
  {
   "cell_type": "code",
   "execution_count": 9,
   "id": "61553cd5",
   "metadata": {},
   "outputs": [],
   "source": [
    "df.rename(columns = {'Date dd/mm/yyyy': \"Date\"} , inplace = True)\n",
    "df.rename(columns = {'Startup Name': \"StartupName\"}, inplace = True)\n",
    "df.rename(columns = {'Industry  Vertical':'IndustryVertical'}, inplace = True)\n",
    "df.rename(columns = {'City  Location': \"City\"}, inplace = True)\n",
    "df.rename(columns = {'Investors Name':\"InvestorsName\"}, inplace = True)\n",
    "df.rename(columns = {'Amount in USD':'AmountInUSD'}, inplace = True)\n",
    "df.rename(columns = {'InvestmentnType':'InvestmentType'}, inplace = True)"
   ]
  },
  {
   "cell_type": "code",
   "execution_count": 4,
   "id": "63a02ea0",
   "metadata": {},
   "outputs": [
    {
     "data": {
      "text/html": [
       "<div>\n",
       "<style scoped>\n",
       "    .dataframe tbody tr th:only-of-type {\n",
       "        vertical-align: middle;\n",
       "    }\n",
       "\n",
       "    .dataframe tbody tr th {\n",
       "        vertical-align: top;\n",
       "    }\n",
       "\n",
       "    .dataframe thead th {\n",
       "        text-align: right;\n",
       "    }\n",
       "</style>\n",
       "<table border=\"1\" class=\"dataframe\">\n",
       "  <thead>\n",
       "    <tr style=\"text-align: right;\">\n",
       "      <th></th>\n",
       "      <th>Sr No</th>\n",
       "      <th>Date dd/mm/yyyy</th>\n",
       "      <th>Startup Name</th>\n",
       "      <th>Industry Vertical</th>\n",
       "      <th>SubVertical</th>\n",
       "      <th>City  Location</th>\n",
       "      <th>Investors Name</th>\n",
       "      <th>InvestmentnType</th>\n",
       "      <th>Amount in USD</th>\n",
       "      <th>Remarks</th>\n",
       "    </tr>\n",
       "  </thead>\n",
       "  <tbody>\n",
       "    <tr>\n",
       "      <th>0</th>\n",
       "      <td>1</td>\n",
       "      <td>09/01/2020</td>\n",
       "      <td>BYJU’S</td>\n",
       "      <td>E-Tech</td>\n",
       "      <td>E-learning</td>\n",
       "      <td>Bengaluru</td>\n",
       "      <td>Tiger Global Management</td>\n",
       "      <td>Private Equity Round</td>\n",
       "      <td>20,00,00,000</td>\n",
       "      <td>NaN</td>\n",
       "    </tr>\n",
       "    <tr>\n",
       "      <th>1</th>\n",
       "      <td>2</td>\n",
       "      <td>13/01/2020</td>\n",
       "      <td>Shuttl</td>\n",
       "      <td>Transportation</td>\n",
       "      <td>App based shuttle service</td>\n",
       "      <td>Gurgaon</td>\n",
       "      <td>Susquehanna Growth Equity</td>\n",
       "      <td>Series C</td>\n",
       "      <td>80,48,394</td>\n",
       "      <td>NaN</td>\n",
       "    </tr>\n",
       "    <tr>\n",
       "      <th>2</th>\n",
       "      <td>3</td>\n",
       "      <td>09/01/2020</td>\n",
       "      <td>Mamaearth</td>\n",
       "      <td>E-commerce</td>\n",
       "      <td>Retailer of baby and toddler products</td>\n",
       "      <td>Bengaluru</td>\n",
       "      <td>Sequoia Capital India</td>\n",
       "      <td>Series B</td>\n",
       "      <td>1,83,58,860</td>\n",
       "      <td>NaN</td>\n",
       "    </tr>\n",
       "    <tr>\n",
       "      <th>3</th>\n",
       "      <td>4</td>\n",
       "      <td>02/01/2020</td>\n",
       "      <td>https://www.wealthbucket.in/</td>\n",
       "      <td>FinTech</td>\n",
       "      <td>Online Investment</td>\n",
       "      <td>New Delhi</td>\n",
       "      <td>Vinod Khatumal</td>\n",
       "      <td>Pre-series A</td>\n",
       "      <td>30,00,000</td>\n",
       "      <td>NaN</td>\n",
       "    </tr>\n",
       "    <tr>\n",
       "      <th>4</th>\n",
       "      <td>5</td>\n",
       "      <td>02/01/2020</td>\n",
       "      <td>Fashor</td>\n",
       "      <td>Fashion and Apparel</td>\n",
       "      <td>Embroiled Clothes For Women</td>\n",
       "      <td>Mumbai</td>\n",
       "      <td>Sprout Venture Partners</td>\n",
       "      <td>Seed Round</td>\n",
       "      <td>18,00,000</td>\n",
       "      <td>NaN</td>\n",
       "    </tr>\n",
       "  </tbody>\n",
       "</table>\n",
       "</div>"
      ],
      "text/plain": [
       "   Sr No Date dd/mm/yyyy                  Startup Name    Industry Vertical  \\\n",
       "0      1      09/01/2020                        BYJU’S               E-Tech   \n",
       "1      2      13/01/2020                        Shuttl       Transportation   \n",
       "2      3      09/01/2020                     Mamaearth           E-commerce   \n",
       "3      4      02/01/2020  https://www.wealthbucket.in/              FinTech   \n",
       "4      5      02/01/2020                        Fashor  Fashion and Apparel   \n",
       "\n",
       "                             SubVertical City  Location  \\\n",
       "0                             E-learning      Bengaluru   \n",
       "1              App based shuttle service        Gurgaon   \n",
       "2  Retailer of baby and toddler products      Bengaluru   \n",
       "3                      Online Investment      New Delhi   \n",
       "4            Embroiled Clothes For Women         Mumbai   \n",
       "\n",
       "              Investors Name       InvestmentnType Amount in USD Remarks  \n",
       "0    Tiger Global Management  Private Equity Round  20,00,00,000     NaN  \n",
       "1  Susquehanna Growth Equity              Series C     80,48,394     NaN  \n",
       "2      Sequoia Capital India              Series B   1,83,58,860     NaN  \n",
       "3             Vinod Khatumal          Pre-series A     30,00,000     NaN  \n",
       "4    Sprout Venture Partners            Seed Round     18,00,000     NaN  "
      ]
     },
     "execution_count": 4,
     "metadata": {},
     "output_type": "execute_result"
    }
   ],
   "source": [
    "df.head()"
   ]
  },
  {
   "cell_type": "code",
   "execution_count": 11,
   "id": "dd5aa397",
   "metadata": {},
   "outputs": [],
   "source": [
    "# we can find the different wrong names using \"unique()\" function\n",
    "df.StartupName.replace('Ola Cabs', 'Ola' , inplace = True)\n",
    "df.StartupName.replace('Ola Electric', 'Ola' , inplace = True)\n",
    "df.StartupName.replace('Olacabs', 'Ola' , inplace = True)\n",
    "df.StartupName.replace('Flipkart.com', 'Flipkart' , inplace = True)\n",
    "df.StartupName.replace('OyoRooms', 'Oyo' , inplace = True)\n",
    "df.StartupName.replace('OYO Rooms', 'Oyo' , inplace = True)\n",
    "df.StartupName.replace('Oyo Rooms', 'Oyo' , inplace = True)\n",
    "df.StartupName.replace('Oyorooms', 'Oyo' , inplace = True)\n",
    "df.StartupName.replace('OYOfit', 'Oyo' , inplace = True)\n",
    "df.StartupName.replace('Paytm Marketplace', 'Paytm' , inplace = True)\n",
    "\n",
    "df.InvestmentType.replace('Private Equity Round' , 'Private Equity' , inplace = True)\n",
    "df.InvestmentType.replace('Private Funding' , 'Private Equity' , inplace = True)\n",
    "df.InvestmentType.replace('Private' , 'Private Equity' , inplace = True)\n",
    "df.InvestmentType.replace('PrivateEquity' , 'Private Equity' , inplace = True)\n",
    "df.InvestmentType.replace('Private\\\\\\\\nEquity' , 'Private Equity' , inplace = True)\n",
    "df.InvestmentType.replace('Seed Round' , 'Seed Funding' , inplace = True)\n",
    "df.InvestmentType.replace('Seed' , 'Seed Funding' , inplace = True)\n",
    "df.InvestmentType.replace('Seed Funding Round' , 'Seed Funding' , inplace = True)\n",
    "df.InvestmentType.replace('Seed funding' , 'Seed Funding' , inplace = True)\n",
    "df.InvestmentType.replace('Seed\\\\\\\\nFunding' , 'Seed Funding' , inplace = True)\n",
    "df.InvestmentType.replace('Crowd funding' , 'Crowd Funding' , inplace = True)\n",
    "df.InvestmentType.replace('Debt-Funding' , 'Debt Funding' , inplace = True)"
   ]
  },
  {
   "cell_type": "markdown",
   "id": "9e11fab4",
   "metadata": {},
   "source": [
    "# Solving problem statement"
   ]
  },
  {
   "cell_type": "code",
   "execution_count": 12,
   "id": "41835b6f",
   "metadata": {},
   "outputs": [],
   "source": [
    "new_df = df[(df[\"InvestmentType\"] == \"Private Equity\")]  # filtering the data into new data frame as new_df\n",
    "investor = np.array(new_df.InvestorsName)\n",
    "startup = np.array(new_df.StartupName) #converting columns into numpy array\n",
    "#investors names has multiple names in one rows separated by 'commas' and ' and '. By using split function\n",
    "#we will separate the names and store the investors name as key and companies name as value in dct dictionary\n",
    "dct = {}\n",
    "for i in range(len(investor)):\n",
    "    name = str(investor[i]).split(', ')\n",
    "    for j in range(len(name)):\n",
    "        name1 = name[j].split(' and ')\n",
    "        for k in range(len(name1)):\n",
    "            name2 = name1[k].split(',')\n",
    "            for n in name2:\n",
    "                if n == \" \" or n == \"\" or n == \"Undisclosed Investors\" or n == \"Undisclosed investors\":\n",
    "                    continue\n",
    "                if n not in dct:\n",
    "                    dct[n] = [startup[i]]\n",
    "                else:\n",
    "                    dct[n].append(startup[i])\n",
    "#above dictionary contain multiple number of companies name against corresponding invrstors name. But we need\n",
    "#investors name who invested in different companies. wso, we will use unique() or set() to make remove duplicate companies\n",
    "# and find its number by using len().\n",
    "for keys in dct:\n",
    "    dct[keys] = len(set(dct[keys]))\n",
    "# sorting of dictionary    \n",
    "sort_dct = {key: val for key , val in sorted(dct.items() , key = lambda ele:ele[1] , reverse = True) }\n",
    "\n",
    "# extracting top 5 investors using counter\n",
    "k = Counter(sort_dct)\n",
    "\n",
    "top_5 = k.most_common(5)\n",
    "investors = []\n",
    "count = []\n",
    "\n",
    "for i in range(5):\n",
    "    investors.append(top_5[i][0])\n",
    "    count.append(top_5[i][1])"
   ]
  },
  {
   "cell_type": "markdown",
   "id": "82424de3",
   "metadata": {},
   "source": [
    "# Plotting Graph"
   ]
  },
  {
   "cell_type": "code",
   "execution_count": 25,
   "id": "d5a8b9a7",
   "metadata": {},
   "outputs": [
    {
     "data": {
      "image/png": "[encoded data removed]",
      "text/plain": [
       "<Figure size 640x480 with 1 Axes>"
      ]
     },
     "metadata": {},
     "output_type": "display_data"
    }
   ],
   "source": [
    "plt.bar(investors , count , color = [\"aqua\", \"salmon\" , \"mediumspringgreen\" , \"gold\" , \"plum\"] , edgecolor = \"black\")\n",
    "plt.xticks(rotation = 90)\n",
    "plt.xlabel(\"Investors\")\n",
    "plt.ylabel(\"Number of investments\")\n",
    "plt.title(\"Top 5 investors in Private Equity Funding\")\n",
    "for i in range(len(investors)):\n",
    "    plt.text(i, count[i] , count[i] , ha = \"center\" , bbox = dict(facecolor = \"lime\"  , alpha = 0.7))\n",
    "plt.show()"
   ]
  }
 ],
 "metadata": {
  "kernelspec": {
   "display_name": "Python 3 (ipykernel)",
   "language": "python",
   "name": "python3"
  },
  "language_info": {
   "codemirror_mode": {
    "name": "ipython",
    "version": 3
   },
   "file_extension": ".py",
   "mimetype": "text/x-python",
   "name": "python",
   "nbconvert_exporter": "python",
   "pygments_lexer": "ipython3",
   "version": "3.10.9"
  }
 },
 "nbformat": 4,
 "nbformat_minor": 5
}
