{
 "cells": [
  {
   "cell_type": "markdown",
   "id": "12c1d595",
   "metadata": {},
   "source": [
    "Question 3. After re-analysing the dataset you investors have invested in the same startup at different number of funding rounds. So before finalising the previous list, you want to improvise it by finding the top 5 investors who have invested in different number of startups. This list will be more helpful than your previous list in finding the investment for your friend startup. Find the top 5 investors who have invested maximum number of times in different companies. That means, if one investor has invested multiple times in one startup, count one for that company. There are many errors in startup names. Ignore correcting all, just handle the important ones - Ola Flipkart. Oyo and Paytm"
   ]
  },
  {
   "cell_type": "markdown",
   "id": "be77ef16",
   "metadata": {},
   "source": [
    "# Importing required libraries"
   ]
  },
  {
   "cell_type": "code",
   "execution_count": 41,
   "id": "6dda13ca",
   "metadata": {},
   "outputs": [],
   "source": [
    "import numpy as np\n",
    "import csv\n",
    "import pandas as pd\n",
    "import matplotlib.pyplot as plt\n",
    "from collections import Counter"
   ]
  },
  {
   "cell_type": "markdown",
   "id": "b29f6835",
   "metadata": {},
   "source": [
    "# Loading and cleaning data"
   ]
  },
  {
   "cell_type": "code",
   "execution_count": 3,
   "id": "bd461695",
   "metadata": {},
   "outputs": [],
   "source": [
    "df = pd.read_csv(\"startup_funding.csv\" , encoding = \"UTF-8\")"
   ]
  },
  {
   "cell_type": "code",
   "execution_count": 4,
   "id": "dee8821e",
   "metadata": {},
   "outputs": [],
   "source": [
    "df.rename(columns = {'Date dd/mm/yyyy': \"Date\"} , inplace = True)\n",
    "df.rename(columns = {'Startup Name': \"StartupName\"}, inplace = True)\n",
    "df.rename(columns = {'Industry  Vertical':'IndustryVertical'}, inplace = True)\n",
    "df.rename(columns = {'City  Location': \"City\"}, inplace = True)\n",
    "df.rename(columns = {'Investors Name':\"InvestorsName\"}, inplace = True)\n",
    "df.rename(columns = {'Amount in USD':'AmountInUSD'}, inplace = True)\n",
    "df.rename(columns = {'InvestmentnType':'InvestmentType'}, inplace = True)"
   ]
  },
  {
   "cell_type": "code",
   "execution_count": 5,
   "id": "0bdfa006",
   "metadata": {},
   "outputs": [
    {
     "data": {
      "text/html": [
       "<div>\n",
       "<style scoped>\n",
       "    .dataframe tbody tr th:only-of-type {\n",
       "        vertical-align: middle;\n",
       "    }\n",
       "\n",
       "    .dataframe tbody tr th {\n",
       "        vertical-align: top;\n",
       "    }\n",
       "\n",
       "    .dataframe thead th {\n",
       "        text-align: right;\n",
       "    }\n",
       "</style>\n",
       "<table border=\"1\" class=\"dataframe\">\n",
       "  <thead>\n",
       "    <tr style=\"text-align: right;\">\n",
       "      <th></th>\n",
       "      <th>Sr No</th>\n",
       "      <th>Date</th>\n",
       "      <th>StartupName</th>\n",
       "      <th>Industry Vertical</th>\n",
       "      <th>SubVertical</th>\n",
       "      <th>City</th>\n",
       "      <th>InvestorsName</th>\n",
       "      <th>InvestmentType</th>\n",
       "      <th>AmountInUSD</th>\n",
       "      <th>Remarks</th>\n",
       "    </tr>\n",
       "  </thead>\n",
       "  <tbody>\n",
       "    <tr>\n",
       "      <th>0</th>\n",
       "      <td>1</td>\n",
       "      <td>09/01/2020</td>\n",
       "      <td>BYJU’S</td>\n",
       "      <td>E-Tech</td>\n",
       "      <td>E-learning</td>\n",
       "      <td>Bengaluru</td>\n",
       "      <td>Tiger Global Management</td>\n",
       "      <td>Private Equity Round</td>\n",
       "      <td>20,00,00,000</td>\n",
       "      <td>NaN</td>\n",
       "    </tr>\n",
       "    <tr>\n",
       "      <th>1</th>\n",
       "      <td>2</td>\n",
       "      <td>13/01/2020</td>\n",
       "      <td>Shuttl</td>\n",
       "      <td>Transportation</td>\n",
       "      <td>App based shuttle service</td>\n",
       "      <td>Gurgaon</td>\n",
       "      <td>Susquehanna Growth Equity</td>\n",
       "      <td>Series C</td>\n",
       "      <td>80,48,394</td>\n",
       "      <td>NaN</td>\n",
       "    </tr>\n",
       "    <tr>\n",
       "      <th>2</th>\n",
       "      <td>3</td>\n",
       "      <td>09/01/2020</td>\n",
       "      <td>Mamaearth</td>\n",
       "      <td>E-commerce</td>\n",
       "      <td>Retailer of baby and toddler products</td>\n",
       "      <td>Bengaluru</td>\n",
       "      <td>Sequoia Capital India</td>\n",
       "      <td>Series B</td>\n",
       "      <td>1,83,58,860</td>\n",
       "      <td>NaN</td>\n",
       "    </tr>\n",
       "    <tr>\n",
       "      <th>3</th>\n",
       "      <td>4</td>\n",
       "      <td>02/01/2020</td>\n",
       "      <td>https://www.wealthbucket.in/</td>\n",
       "      <td>FinTech</td>\n",
       "      <td>Online Investment</td>\n",
       "      <td>New Delhi</td>\n",
       "      <td>Vinod Khatumal</td>\n",
       "      <td>Pre-series A</td>\n",
       "      <td>30,00,000</td>\n",
       "      <td>NaN</td>\n",
       "    </tr>\n",
       "    <tr>\n",
       "      <th>4</th>\n",
       "      <td>5</td>\n",
       "      <td>02/01/2020</td>\n",
       "      <td>Fashor</td>\n",
       "      <td>Fashion and Apparel</td>\n",
       "      <td>Embroiled Clothes For Women</td>\n",
       "      <td>Mumbai</td>\n",
       "      <td>Sprout Venture Partners</td>\n",
       "      <td>Seed Round</td>\n",
       "      <td>18,00,000</td>\n",
       "      <td>NaN</td>\n",
       "    </tr>\n",
       "  </tbody>\n",
       "</table>\n",
       "</div>"
      ],
      "text/plain": [
       "   Sr No        Date                   StartupName    Industry Vertical  \\\n",
       "0      1  09/01/2020                        BYJU’S               E-Tech   \n",
       "1      2  13/01/2020                        Shuttl       Transportation   \n",
       "2      3  09/01/2020                     Mamaearth           E-commerce   \n",
       "3      4  02/01/2020  https://www.wealthbucket.in/              FinTech   \n",
       "4      5  02/01/2020                        Fashor  Fashion and Apparel   \n",
       "\n",
       "                             SubVertical       City  \\\n",
       "0                             E-learning  Bengaluru   \n",
       "1              App based shuttle service    Gurgaon   \n",
       "2  Retailer of baby and toddler products  Bengaluru   \n",
       "3                      Online Investment  New Delhi   \n",
       "4            Embroiled Clothes For Women     Mumbai   \n",
       "\n",
       "               InvestorsName        InvestmentType   AmountInUSD Remarks  \n",
       "0    Tiger Global Management  Private Equity Round  20,00,00,000     NaN  \n",
       "1  Susquehanna Growth Equity              Series C     80,48,394     NaN  \n",
       "2      Sequoia Capital India              Series B   1,83,58,860     NaN  \n",
       "3             Vinod Khatumal          Pre-series A     30,00,000     NaN  \n",
       "4    Sprout Venture Partners            Seed Round     18,00,000     NaN  "
      ]
     },
     "execution_count": 5,
     "metadata": {},
     "output_type": "execute_result"
    }
   ],
   "source": [
    "df.head()"
   ]
  },
  {
   "cell_type": "code",
   "execution_count": 6,
   "id": "e760d406",
   "metadata": {},
   "outputs": [],
   "source": [
    "df.StartupName.replace('Ola Cabs', 'Ola' , inplace = True)\n",
    "df.StartupName.replace('Ola Electric', 'Ola' , inplace = True)\n",
    "df.StartupName.replace('Olacabs', 'Ola' , inplace = True)\n",
    "df.StartupName.replace('Flipkart.com', 'Flipkart' , inplace = True)\n",
    "df.StartupName.replace('OyoRooms', 'Oyo' , inplace = True)\n",
    "df.StartupName.replace('OYO Rooms', 'Oyo' , inplace = True)\n",
    "df.StartupName.replace('Oyo Rooms', 'Oyo' , inplace = True)\n",
    "df.StartupName.replace('Oyorooms', 'Oyo' , inplace = True)\n",
    "df.StartupName.replace('OYOfit', 'Oyo' , inplace = True)\n",
    "df.StartupName.replace('Paytm Marketplace', 'Paytm' , inplace = True)"
   ]
  },
  {
   "cell_type": "markdown",
   "id": "8a752fc2",
   "metadata": {},
   "source": [
    "# Solving problem statement"
   ]
  },
  {
   "cell_type": "code",
   "execution_count": 20,
   "id": "8e0094f1",
   "metadata": {
    "scrolled": false
   },
   "outputs": [],
   "source": [
    "startup = np.array(df.StartupName)  #converting startup names and investor names into numpy array\n",
    "invest = np.array(df.InvestorsName)\n",
    "# investors names has multiple names in one rows separated by 'commas' and ' and '. By using split function\n",
    "#we will separate the names and store the investors name as key and companies name as value in dct dictionary\n",
    "dct = {}\n",
    "for rows in range(len(invest)):\n",
    "    i = str(invest[rows]).split(', ')\n",
    "    \n",
    "    for k in range(len(i)):\n",
    "        j = i[k].split(' and ')\n",
    "        \n",
    "        for p in range(len(j)):\n",
    "            m = j[p].split(',')\n",
    "            \n",
    "            for n in m:\n",
    "                if n == \" \" or n == '' or n == 'Undisclosed Investors' or n == 'Undisclosed investors':\n",
    "                    continue\n",
    "                if n not in dct:\n",
    "                    dct[n] = [startup[rows]]\n",
    "                else:\n",
    "                    dct[n].append(startup[rows])\n",
    "# above dictionary contain multiple number of companies name against corresponding invrstors name. But we need\n",
    "#investors name who invested in different companies. wso, we will use unique() or set() to make remove duplicate companies\n",
    "# and find its number by using len().\n",
    "\n",
    "\n",
    "for keys in dct:\n",
    "    dct[keys] = len(set(dct[keys]))\n",
    "    \n",
    "#sorting dct dictionary\n",
    "\n",
    "sort_dct = {key: val for key, val in sorted(dct.items(), key = lambda ele:ele[1], reverse = True)}\n",
    "# using counter to extract top 5 investors\n",
    "k = Counter(sort_dct)\n",
    "\n",
    "top_5 = k.most_common(5)\n",
    "\n",
    "investment_name = []        \n",
    "num = []\n",
    "\n",
    "for i in range(5):\n",
    "    investment_name.append(top_5[i][0])\n",
    "    num.append(top_5[i][1])"
   ]
  },
  {
   "cell_type": "markdown",
   "id": "66712c6f",
   "metadata": {},
   "source": [
    "# Plotting graph"
   ]
  },
  {
   "cell_type": "code",
   "execution_count": 40,
   "id": "a8ee2006",
   "metadata": {},
   "outputs": [
    {
     "data": {
      "image/png": "[encoded data removed]",
      "text/plain": [
       "<Figure size 640x480 with 1 Axes>"
      ]
     },
     "metadata": {},
     "output_type": "display_data"
    }
   ],
   "source": [
    "plt.bar(investment_name , num , color = [\"pink\" , \"yellow\", \"green\",\"orange\",\"red\"] , edgecolor = \"black\")\n",
    "\n",
    "plt.xticks(rotation = 45)\n",
    "plt.title(\"Top 5 investors to invest in different companies\")\n",
    "plt.xlabel(\"Investors\")\n",
    "plt.ylabel(\"Number of Companies\")\n",
    "for i in range(len(investment_name)):\n",
    "    plt.text(i , num[i]+1 , num[i] , ha = \"center\" , bbox = dict(facecolor = \"lime\" , alpha = 0.7))\n",
    "plt.show()"
   ]
  }
 ],
 "metadata": {
  "kernelspec": {
   "display_name": "Python 3 (ipykernel)",
   "language": "python",
   "name": "python3"
  },
  "language_info": {
   "codemirror_mode": {
    "name": "ipython",
    "version": 3
   },
   "file_extension": ".py",
   "mimetype": "text/x-python",
   "name": "python",
   "nbconvert_exporter": "python",
   "pygments_lexer": "ipython3",
   "version": "3.10.9"
  }
 },
 "nbformat": 4,
 "nbformat_minor": 5
}
