{
 "cells": [
  {
   "cell_type": "markdown",
   "id": "248bc0c3",
   "metadata": {},
   "source": [
    "# Startup Dataset Analysis"
   ]
  },
  {
   "cell_type": "markdown",
   "id": "022d7f15",
   "metadata": {},
   "source": [
    "Question 1.  Your Friend has developed the Product and he wants to establish the product startup and he is searching for a perfect location where getting the investment has a high chance But due to its financial restriction, he can choose only between three locations - Bangalore, Mumbai, and NCR. As a friend, you want to help your friend deciding the location NCR include Gurgaon, Noida and New Delhi. Find the location where the most number of funding is done. That means, find the location where startups has received funding maximum number of times. Plot the bar graph between location and number of funding. Take city name \"Delhi\" as \"New Delhi\" Check the case-sensitiveness of cities also. That means, at some place instead of \"Bangalore\" \"bangalore\" is given. Take city name as \"Bangalore\". For few startups multiple locations are given one Indian and one Foreign. Consider the startup if any one of the city lies in given locations."
   ]
  },
  {
   "cell_type": "markdown",
   "id": "ba24f181",
   "metadata": {},
   "source": [
    "# Importing required libraries"
   ]
  },
  {
   "cell_type": "code",
   "execution_count": 3,
   "id": "3dedb345",
   "metadata": {
    "scrolled": false
   },
   "outputs": [],
   "source": [
    "import numpy as np\n",
    "import csv\n",
    "import pandas as pd\n",
    "import matplotlib.pyplot as plt\n",
    "import collections\n",
    "\n"
   ]
  },
  {
   "cell_type": "markdown",
   "id": "7090efdc",
   "metadata": {},
   "source": [
    "# Loading and cleaning data"
   ]
  },
  {
   "cell_type": "code",
   "execution_count": 4,
   "id": "859a5623",
   "metadata": {},
   "outputs": [],
   "source": [
    "df = pd.read_csv(\"startup_funding.csv\" , encoding = \"UTF-8\")"
   ]
  },
  {
   "cell_type": "markdown",
   "id": "0bc58fa2",
   "metadata": {},
   "source": [
    "Renaming Columns Names"
   ]
  },
  {
   "cell_type": "code",
   "execution_count": 5,
   "id": "87fbe742",
   "metadata": {},
   "outputs": [],
   "source": [
    "df.rename(columns = {'Date dd/mm/yyyy': \"Date\"} , inplace = True)\n",
    "df.rename(columns = {'Startup Name': \"StartupName\"}, inplace = True)\n",
    "df.rename(columns = {'Industry  Vertical':'IndustryVertical'}, inplace = True)\n",
    "df.rename(columns = {'City  Location': \"City\"}, inplace = True)\n",
    "df.rename(columns = {'Investors Name':\"InvestorsName\"}, inplace = True)\n",
    "df.rename(columns = {'Amount in USD':'AmountInUSD'}, inplace = True)\n",
    "df.rename(columns = {'InvestmentnType':'InvestmentType'}, inplace = True)"
   ]
  },
  {
   "cell_type": "code",
   "execution_count": 6,
   "id": "fa017e94",
   "metadata": {},
   "outputs": [],
   "source": [
    "df.replace('Bengaluru','Bangalore', inplace = True)\n",
    "df.replace(\"Gurugram\", \"Gurgaon\", inplace = True)\n",
    "df.replace(\"Delhi\", \"New Delhi\", inplace = True)"
   ]
  },
  {
   "cell_type": "code",
   "execution_count": 7,
   "id": "5c509974",
   "metadata": {
    "scrolled": true
   },
   "outputs": [
    {
     "data": {
      "text/html": [
       "<div>\n",
       "<style scoped>\n",
       "    .dataframe tbody tr th:only-of-type {\n",
       "        vertical-align: middle;\n",
       "    }\n",
       "\n",
       "    .dataframe tbody tr th {\n",
       "        vertical-align: top;\n",
       "    }\n",
       "\n",
       "    .dataframe thead th {\n",
       "        text-align: right;\n",
       "    }\n",
       "</style>\n",
       "<table border=\"1\" class=\"dataframe\">\n",
       "  <thead>\n",
       "    <tr style=\"text-align: right;\">\n",
       "      <th></th>\n",
       "      <th>Sr No</th>\n",
       "      <th>Date</th>\n",
       "      <th>StartupName</th>\n",
       "      <th>Industry Vertical</th>\n",
       "      <th>SubVertical</th>\n",
       "      <th>City</th>\n",
       "      <th>InvestorsName</th>\n",
       "      <th>InvestmentType</th>\n",
       "      <th>AmountInUSD</th>\n",
       "      <th>Remarks</th>\n",
       "    </tr>\n",
       "  </thead>\n",
       "  <tbody>\n",
       "    <tr>\n",
       "      <th>0</th>\n",
       "      <td>1</td>\n",
       "      <td>09/01/2020</td>\n",
       "      <td>BYJU’S</td>\n",
       "      <td>E-Tech</td>\n",
       "      <td>E-learning</td>\n",
       "      <td>Bangalore</td>\n",
       "      <td>Tiger Global Management</td>\n",
       "      <td>Private Equity Round</td>\n",
       "      <td>20,00,00,000</td>\n",
       "      <td>NaN</td>\n",
       "    </tr>\n",
       "    <tr>\n",
       "      <th>1</th>\n",
       "      <td>2</td>\n",
       "      <td>13/01/2020</td>\n",
       "      <td>Shuttl</td>\n",
       "      <td>Transportation</td>\n",
       "      <td>App based shuttle service</td>\n",
       "      <td>Gurgaon</td>\n",
       "      <td>Susquehanna Growth Equity</td>\n",
       "      <td>Series C</td>\n",
       "      <td>80,48,394</td>\n",
       "      <td>NaN</td>\n",
       "    </tr>\n",
       "    <tr>\n",
       "      <th>2</th>\n",
       "      <td>3</td>\n",
       "      <td>09/01/2020</td>\n",
       "      <td>Mamaearth</td>\n",
       "      <td>E-commerce</td>\n",
       "      <td>Retailer of baby and toddler products</td>\n",
       "      <td>Bangalore</td>\n",
       "      <td>Sequoia Capital India</td>\n",
       "      <td>Series B</td>\n",
       "      <td>1,83,58,860</td>\n",
       "      <td>NaN</td>\n",
       "    </tr>\n",
       "    <tr>\n",
       "      <th>3</th>\n",
       "      <td>4</td>\n",
       "      <td>02/01/2020</td>\n",
       "      <td>https://www.wealthbucket.in/</td>\n",
       "      <td>FinTech</td>\n",
       "      <td>Online Investment</td>\n",
       "      <td>New Delhi</td>\n",
       "      <td>Vinod Khatumal</td>\n",
       "      <td>Pre-series A</td>\n",
       "      <td>30,00,000</td>\n",
       "      <td>NaN</td>\n",
       "    </tr>\n",
       "    <tr>\n",
       "      <th>4</th>\n",
       "      <td>5</td>\n",
       "      <td>02/01/2020</td>\n",
       "      <td>Fashor</td>\n",
       "      <td>Fashion and Apparel</td>\n",
       "      <td>Embroiled Clothes For Women</td>\n",
       "      <td>Mumbai</td>\n",
       "      <td>Sprout Venture Partners</td>\n",
       "      <td>Seed Round</td>\n",
       "      <td>18,00,000</td>\n",
       "      <td>NaN</td>\n",
       "    </tr>\n",
       "  </tbody>\n",
       "</table>\n",
       "</div>"
      ],
      "text/plain": [
       "   Sr No        Date                   StartupName    Industry Vertical  \\\n",
       "0      1  09/01/2020                        BYJU’S               E-Tech   \n",
       "1      2  13/01/2020                        Shuttl       Transportation   \n",
       "2      3  09/01/2020                     Mamaearth           E-commerce   \n",
       "3      4  02/01/2020  https://www.wealthbucket.in/              FinTech   \n",
       "4      5  02/01/2020                        Fashor  Fashion and Apparel   \n",
       "\n",
       "                             SubVertical       City  \\\n",
       "0                             E-learning  Bangalore   \n",
       "1              App based shuttle service    Gurgaon   \n",
       "2  Retailer of baby and toddler products  Bangalore   \n",
       "3                      Online Investment  New Delhi   \n",
       "4            Embroiled Clothes For Women     Mumbai   \n",
       "\n",
       "               InvestorsName        InvestmentType   AmountInUSD Remarks  \n",
       "0    Tiger Global Management  Private Equity Round  20,00,00,000     NaN  \n",
       "1  Susquehanna Growth Equity              Series C     80,48,394     NaN  \n",
       "2      Sequoia Capital India              Series B   1,83,58,860     NaN  \n",
       "3             Vinod Khatumal          Pre-series A     30,00,000     NaN  \n",
       "4    Sprout Venture Partners            Seed Round     18,00,000     NaN  "
      ]
     },
     "execution_count": 7,
     "metadata": {},
     "output_type": "execute_result"
    }
   ],
   "source": [
    "df.head()"
   ]
  },
  {
   "cell_type": "markdown",
   "id": "37393380",
   "metadata": {},
   "source": [
    "# Solving problem statement"
   ]
  },
  {
   "cell_type": "code",
   "execution_count": 8,
   "id": "e20fd0d6",
   "metadata": {
    "scrolled": false
   },
   "outputs": [],
   "source": [
    "city_data = np.array(df.City) # converting the city column into numpy array\n",
    "# cities name has multiple names separateds by \"/\", using split() to separate required cities\n",
    "cities = []\n",
    "for i in city_data:\n",
    "    if i != np.nan:\n",
    "        x = str(i).split('/')\n",
    "        for k in x:\n",
    "            if k[0] == ' ':\n",
    "                k = k[1:]\n",
    "            if k[-1] == ' ':\n",
    "                k = k[:-1]\n",
    "            cities.append(k)\n",
    "            \n",
    "Cities = np.array(cities)\n",
    "#counting the number of cities usinf len() for Bangalore , Mumbai and NCR\n",
    "bn = len(np.where(Cities == \"Bangalore\")[0])\n",
    "mumb = len(np.where(Cities == \"Mumbai\")[0])\n",
    "ncr = len(np.where((Cities == \"New Delhi\")|(Cities == \"Gurgaon\")|(Cities == \"Noida\"))[0])"
   ]
  },
  {
   "cell_type": "markdown",
   "id": "1318a0c9",
   "metadata": {},
   "source": [
    "# Plotting Graph"
   ]
  },
  {
   "cell_type": "code",
   "execution_count": 14,
   "id": "c40287ea",
   "metadata": {
    "scrolled": false
   },
   "outputs": [
    {
     "data": {
      "image/png": "[encoded data removed]",
      "text/plain": [
       "<Figure size 640x480 with 1 Axes>"
      ]
     },
     "metadata": {},
     "output_type": "display_data"
    }
   ],
   "source": [
    "Cities = [\"Bangalore\" , \"Mumbai\" , \"NCR\"]\n",
    "Count = [bn, mumb, ncr]\n",
    "plt.bar(Cities , Count , color = [\"Yellow\", \"Orange\", \"lightgreen\"] , edgecolor = \"black\")\n",
    "plt.ylabel(\"Number of Fundings\" , fontsize = 12)\n",
    "plt.xlabel(\"Region--------->\" , fontsize = 12)\n",
    "plt.title(\"City/Region with most number of fundings\")\n",
    "for i in range(len(Cities)):\n",
    "    plt.text(i , Count[i]+15, Count[i] , ha =\"center\" ,fontsize = 10, bbox = dict(facecolor = \"lime\" , alpha = 0.7))\n",
    "plt.show()"
   ]
  }
 ],
 "metadata": {
  "kernelspec": {
   "display_name": "Python 3 (ipykernel)",
   "language": "python",
   "name": "python3"
  },
  "language_info": {
   "codemirror_mode": {
    "name": "ipython",
    "version": 3
   },
   "file_extension": ".py",
   "mimetype": "text/x-python",
   "name": "python",
   "nbconvert_exporter": "python",
   "pygments_lexer": "ipython3",
   "version": "3.10.9"
  }
 },
 "nbformat": 4,
 "nbformat_minor": 5
}
