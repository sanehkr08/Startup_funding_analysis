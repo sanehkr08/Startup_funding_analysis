{
 "cells": [
  {
   "cell_type": "markdown",
   "id": "6ec60cfc",
   "metadata": {},
   "source": [
    "Question 2.  Even after trying for so many times, your friend's startup could not find the investment. So you decided to take this matter in your hand and try to find the list of investors who probably can invest in your friend's startup. Your list will increase the chance of your friend startup getting some initial investment by contacting these investors. Find the top 5 investors who have invested maximum number of times (consider repeat investments in one company also). In a startup, multiple investors might have invested. So consider each investor for that startup. Ignore undisclosed investors."
   ]
  },
  {
   "cell_type": "markdown",
   "id": "fc4b81e7",
   "metadata": {},
   "source": [
    "# Importing required libraries"
   ]
  },
  {
   "cell_type": "code",
   "execution_count": 2,
   "id": "73cedfbf",
   "metadata": {},
   "outputs": [],
   "source": [
    "import numpy as np\n",
    "import csv\n",
    "import pandas as pd\n",
    "import matplotlib.pyplot as plt\n",
    "from collections import Counter\n",
    "\n"
   ]
  },
  {
   "cell_type": "markdown",
   "id": "ab8a8b3f",
   "metadata": {},
   "source": [
    "# Loading  and cleaning data"
   ]
  },
  {
   "cell_type": "code",
   "execution_count": 3,
   "id": "92fd1cae",
   "metadata": {},
   "outputs": [],
   "source": [
    "df = pd.read_csv(\"startup_funding.csv\" , encoding = \"UTF-8\")"
   ]
  },
  {
   "cell_type": "code",
   "execution_count": 4,
   "id": "ec9db7af",
   "metadata": {},
   "outputs": [],
   "source": [
    "df.rename(columns = {'Date dd/mm/yyyy': \"Date\"} , inplace = True)\n",
    "df.rename(columns = {'Startup Name': \"StartupName\"}, inplace = True)\n",
    "df.rename(columns = {'Industry  Vertical':'IndustryVertical'}, inplace = True)\n",
    "df.rename(columns = {'City  Location': \"City\"}, inplace = True)\n",
    "df.rename(columns = {'Investors Name':\"InvestorsName\"}, inplace = True)\n",
    "df.rename(columns = {'Amount in USD':'AmountInUSD'}, inplace = True)\n",
    "df.rename(columns = {'InvestmentnType':'InvestmentType'}, inplace = True)"
   ]
  },
  {
   "cell_type": "code",
   "execution_count": 5,
   "id": "efbaa311",
   "metadata": {
    "scrolled": true
   },
   "outputs": [
    {
     "data": {
      "text/html": [
       "<div>\n",
       "<style scoped>\n",
       "    .dataframe tbody tr th:only-of-type {\n",
       "        vertical-align: middle;\n",
       "    }\n",
       "\n",
       "    .dataframe tbody tr th {\n",
       "        vertical-align: top;\n",
       "    }\n",
       "\n",
       "    .dataframe thead th {\n",
       "        text-align: right;\n",
       "    }\n",
       "</style>\n",
       "<table border=\"1\" class=\"dataframe\">\n",
       "  <thead>\n",
       "    <tr style=\"text-align: right;\">\n",
       "      <th></th>\n",
       "      <th>Sr No</th>\n",
       "      <th>Date</th>\n",
       "      <th>StartupName</th>\n",
       "      <th>Industry Vertical</th>\n",
       "      <th>SubVertical</th>\n",
       "      <th>City</th>\n",
       "      <th>InvestorsName</th>\n",
       "      <th>InvestmentType</th>\n",
       "      <th>AmountInUSD</th>\n",
       "      <th>Remarks</th>\n",
       "    </tr>\n",
       "  </thead>\n",
       "  <tbody>\n",
       "    <tr>\n",
       "      <th>0</th>\n",
       "      <td>1</td>\n",
       "      <td>09/01/2020</td>\n",
       "      <td>BYJU’S</td>\n",
       "      <td>E-Tech</td>\n",
       "      <td>E-learning</td>\n",
       "      <td>Bengaluru</td>\n",
       "      <td>Tiger Global Management</td>\n",
       "      <td>Private Equity Round</td>\n",
       "      <td>20,00,00,000</td>\n",
       "      <td>NaN</td>\n",
       "    </tr>\n",
       "    <tr>\n",
       "      <th>1</th>\n",
       "      <td>2</td>\n",
       "      <td>13/01/2020</td>\n",
       "      <td>Shuttl</td>\n",
       "      <td>Transportation</td>\n",
       "      <td>App based shuttle service</td>\n",
       "      <td>Gurgaon</td>\n",
       "      <td>Susquehanna Growth Equity</td>\n",
       "      <td>Series C</td>\n",
       "      <td>80,48,394</td>\n",
       "      <td>NaN</td>\n",
       "    </tr>\n",
       "    <tr>\n",
       "      <th>2</th>\n",
       "      <td>3</td>\n",
       "      <td>09/01/2020</td>\n",
       "      <td>Mamaearth</td>\n",
       "      <td>E-commerce</td>\n",
       "      <td>Retailer of baby and toddler products</td>\n",
       "      <td>Bengaluru</td>\n",
       "      <td>Sequoia Capital India</td>\n",
       "      <td>Series B</td>\n",
       "      <td>1,83,58,860</td>\n",
       "      <td>NaN</td>\n",
       "    </tr>\n",
       "    <tr>\n",
       "      <th>3</th>\n",
       "      <td>4</td>\n",
       "      <td>02/01/2020</td>\n",
       "      <td>https://www.wealthbucket.in/</td>\n",
       "      <td>FinTech</td>\n",
       "      <td>Online Investment</td>\n",
       "      <td>New Delhi</td>\n",
       "      <td>Vinod Khatumal</td>\n",
       "      <td>Pre-series A</td>\n",
       "      <td>30,00,000</td>\n",
       "      <td>NaN</td>\n",
       "    </tr>\n",
       "    <tr>\n",
       "      <th>4</th>\n",
       "      <td>5</td>\n",
       "      <td>02/01/2020</td>\n",
       "      <td>Fashor</td>\n",
       "      <td>Fashion and Apparel</td>\n",
       "      <td>Embroiled Clothes For Women</td>\n",
       "      <td>Mumbai</td>\n",
       "      <td>Sprout Venture Partners</td>\n",
       "      <td>Seed Round</td>\n",
       "      <td>18,00,000</td>\n",
       "      <td>NaN</td>\n",
       "    </tr>\n",
       "  </tbody>\n",
       "</table>\n",
       "</div>"
      ],
      "text/plain": [
       "   Sr No        Date                   StartupName    Industry Vertical  \\\n",
       "0      1  09/01/2020                        BYJU’S               E-Tech   \n",
       "1      2  13/01/2020                        Shuttl       Transportation   \n",
       "2      3  09/01/2020                     Mamaearth           E-commerce   \n",
       "3      4  02/01/2020  https://www.wealthbucket.in/              FinTech   \n",
       "4      5  02/01/2020                        Fashor  Fashion and Apparel   \n",
       "\n",
       "                             SubVertical       City  \\\n",
       "0                             E-learning  Bengaluru   \n",
       "1              App based shuttle service    Gurgaon   \n",
       "2  Retailer of baby and toddler products  Bengaluru   \n",
       "3                      Online Investment  New Delhi   \n",
       "4            Embroiled Clothes For Women     Mumbai   \n",
       "\n",
       "               InvestorsName        InvestmentType   AmountInUSD Remarks  \n",
       "0    Tiger Global Management  Private Equity Round  20,00,00,000     NaN  \n",
       "1  Susquehanna Growth Equity              Series C     80,48,394     NaN  \n",
       "2      Sequoia Capital India              Series B   1,83,58,860     NaN  \n",
       "3             Vinod Khatumal          Pre-series A     30,00,000     NaN  \n",
       "4    Sprout Venture Partners            Seed Round     18,00,000     NaN  "
      ]
     },
     "execution_count": 5,
     "metadata": {},
     "output_type": "execute_result"
    }
   ],
   "source": [
    "df.head()"
   ]
  },
  {
   "cell_type": "markdown",
   "id": "a425a95b",
   "metadata": {},
   "source": [
    "# Solving Problem Statement"
   ]
  },
  {
   "cell_type": "code",
   "execution_count": 6,
   "id": "eee53897",
   "metadata": {
    "scrolled": false
   },
   "outputs": [],
   "source": [
    "name = np.array(df.InvestorsName) # converting investors name into numpy array\n",
    "# Investors name has multiple name in one row separated by \"commas\" and \" and \", by using split() we can separate the name\n",
    "invt = []\n",
    "for i in name:\n",
    "    x = str(i).split(', ')\n",
    "    for j in x:\n",
    "        y = j.split(' and ')\n",
    "        for k in y:\n",
    "            z = k.split(',')\n",
    "            for p in z:\n",
    "                if 'Undisclosed' not in p:\n",
    "                    invt.append(p)\n",
    "np_invt = np.array(invt)   \n",
    "# storing the investors name and thier frequency of investments in the dictionary as key value pairs\n",
    "dct = {}\n",
    "for i in np_invt:\n",
    "    if i in dct:\n",
    "        dct[i] = dct[i] + 1\n",
    "    else:\n",
    "        dct[i] = 1\n",
    "#sorting dictionary value wise in descending order,  key = lambda ele:ele[1]\n",
    "sort_dict = {key: val for key, val in sorted(dct.items(), key = lambda ele:ele[1], reverse = True)}\n",
    "# using counter  to extract top 5 investors\n",
    "k = Counter(sort_dict)\n",
    "top_5 = k.most_common(5)\n",
    "index = []\n",
    "count = []\n",
    "for i in range(5):\n",
    "    index.append(top_5[i][0])\n",
    "    count.append(top_5[i][1])  "
   ]
  },
  {
   "cell_type": "markdown",
   "id": "28ea920c",
   "metadata": {},
   "source": [
    "# Plotting Graph"
   ]
  },
  {
   "cell_type": "code",
   "execution_count": 20,
   "id": "77b2969e",
   "metadata": {},
   "outputs": [
    {
     "data": {
      "image/png": "[encoded data removed]",
      "text/plain": [
       "<Figure size 640x480 with 1 Axes>"
      ]
     },
     "metadata": {},
     "output_type": "display_data"
    }
   ],
   "source": [
    "plt.bar(index , count , color = [\"Orange\" , \"Red\",\"Yellow\", \"green\", \"maroon\"] , edgecolor = \"black\")\n",
    "plt.xticks(rotation = 55)\n",
    "plt.title(\"Top 5 investors\")\n",
    "plt.xlabel(\"Investors\")\n",
    "plt.ylabel(\"Number of Invesments\")\n",
    "\n",
    "for i in range(len(index)):\n",
    "    plt.text(i , count[i]+1 , count[i] , ha = \"center\" , bbox = dict(facecolor = \"lime\" , alpha = 0.7))\n",
    "    \n",
    "\n",
    "plt.show()"
   ]
  }
 ],
 "metadata": {
  "kernelspec": {
   "display_name": "Python 3 (ipykernel)",
   "language": "python",
   "name": "python3"
  },
  "language_info": {
   "codemirror_mode": {
    "name": "ipython",
    "version": 3
   },
   "file_extension": ".py",
   "mimetype": "text/x-python",
   "name": "python",
   "nbconvert_exporter": "python",
   "pygments_lexer": "ipython3",
   "version": "3.10.9"
  }
 },
 "nbformat": 4,
 "nbformat_minor": 5
}
